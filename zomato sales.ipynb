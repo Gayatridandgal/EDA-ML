{
 "cells": [
  {
   "cell_type": "markdown",
   "id": "9842e95b",
   "metadata": {},
   "source": [
    "# ZOMATO SALES"
   ]
  },
  {
   "cell_type": "code",
   "execution_count": 50,
   "id": "248e2414",
   "metadata": {},
   "outputs": [],
   "source": [
    "import pandas as pd\n",
    "import numpy as np\n",
    "import seaborn as sns\n",
    "import matplotlib.pyplot as plt"
   ]
  },
  {
   "cell_type": "code",
   "execution_count": 51,
   "id": "7a4411a6",
   "metadata": {},
   "outputs": [],
   "source": [
    "data=pd.read_csv(r\"C:\\Users\\Acer\\4-SEM\\ML\\Zomato\\zomato\")"
   ]
  },
  {
   "cell_type": "code",
   "execution_count": 52,
   "id": "907253aa",
   "metadata": {},
   "outputs": [
    {
     "data": {
      "text/html": [
       "<div>\n",
       "<style scoped>\n",
       "    .dataframe tbody tr th:only-of-type {\n",
       "        vertical-align: middle;\n",
       "    }\n",
       "\n",
       "    .dataframe tbody tr th {\n",
       "        vertical-align: top;\n",
       "    }\n",
       "\n",
       "    .dataframe thead th {\n",
       "        text-align: right;\n",
       "    }\n",
       "</style>\n",
       "<table border=\"1\" class=\"dataframe\">\n",
       "  <thead>\n",
       "    <tr style=\"text-align: right;\">\n",
       "      <th></th>\n",
       "      <th>name</th>\n",
       "      <th>online_order</th>\n",
       "      <th>book_table</th>\n",
       "      <th>rate</th>\n",
       "      <th>votes</th>\n",
       "      <th>approx_cost(for two people)</th>\n",
       "      <th>listed_in(type)</th>\n",
       "    </tr>\n",
       "  </thead>\n",
       "  <tbody>\n",
       "    <tr>\n",
       "      <th>0</th>\n",
       "      <td>Jalsa</td>\n",
       "      <td>Yes</td>\n",
       "      <td>Yes</td>\n",
       "      <td>4.1/5</td>\n",
       "      <td>775</td>\n",
       "      <td>800</td>\n",
       "      <td>Buffet</td>\n",
       "    </tr>\n",
       "    <tr>\n",
       "      <th>1</th>\n",
       "      <td>Spice Elephant</td>\n",
       "      <td>Yes</td>\n",
       "      <td>No</td>\n",
       "      <td>4.1/5</td>\n",
       "      <td>787</td>\n",
       "      <td>800</td>\n",
       "      <td>Buffet</td>\n",
       "    </tr>\n",
       "    <tr>\n",
       "      <th>2</th>\n",
       "      <td>San Churro Cafe</td>\n",
       "      <td>Yes</td>\n",
       "      <td>No</td>\n",
       "      <td>3.8/5</td>\n",
       "      <td>918</td>\n",
       "      <td>800</td>\n",
       "      <td>Buffet</td>\n",
       "    </tr>\n",
       "  </tbody>\n",
       "</table>\n",
       "</div>"
      ],
      "text/plain": [
       "              name online_order book_table   rate  votes  \\\n",
       "0            Jalsa          Yes        Yes  4.1/5    775   \n",
       "1   Spice Elephant          Yes         No  4.1/5    787   \n",
       "2  San Churro Cafe          Yes         No  3.8/5    918   \n",
       "\n",
       "   approx_cost(for two people) listed_in(type)  \n",
       "0                          800          Buffet  \n",
       "1                          800          Buffet  \n",
       "2                          800          Buffet  "
      ]
     },
     "execution_count": 52,
     "metadata": {},
     "output_type": "execute_result"
    }
   ],
   "source": [
    "data.head(3)"
   ]
  },
  {
   "cell_type": "code",
   "execution_count": 53,
   "id": "89e0b77a",
   "metadata": {},
   "outputs": [
    {
     "data": {
      "text/plain": [
       "name                           object\n",
       "online_order                   object\n",
       "book_table                     object\n",
       "rate                           object\n",
       "votes                           int64\n",
       "approx_cost(for two people)     int64\n",
       "listed_in(type)                object\n",
       "dtype: object"
      ]
     },
     "execution_count": 53,
     "metadata": {},
     "output_type": "execute_result"
    }
   ],
   "source": [
    "data.dtypes"
   ]
  },
  {
   "cell_type": "code",
   "execution_count": 54,
   "id": "b09c89ff",
   "metadata": {},
   "outputs": [
    {
     "data": {
      "text/plain": [
       "name                           0\n",
       "online_order                   0\n",
       "book_table                     0\n",
       "rate                           0\n",
       "votes                          0\n",
       "approx_cost(for two people)    0\n",
       "listed_in(type)                0\n",
       "dtype: int64"
      ]
     },
     "execution_count": 54,
     "metadata": {},
     "output_type": "execute_result"
    }
   ],
   "source": [
    "data.isnull().sum()"
   ]
  },
  {
   "cell_type": "code",
   "execution_count": 55,
   "id": "ef172261",
   "metadata": {},
   "outputs": [
    {
     "data": {
      "text/plain": [
       "(148, 7)"
      ]
     },
     "execution_count": 55,
     "metadata": {},
     "output_type": "execute_result"
    }
   ],
   "source": [
    "data.shape"
   ]
  },
  {
   "cell_type": "code",
   "execution_count": 80,
   "id": "c9cb898f",
   "metadata": {},
   "outputs": [
    {
     "name": "stdout",
     "output_type": "stream",
     "text": [
      "['Buffet' 'Cafes' 'other' 'Dining']\n"
     ]
    }
   ],
   "source": [
    "#What are the top 5 most common cuisines?\n",
    "print(data['listed_in(type)'].unique())"
   ]
  },
  {
   "cell_type": "code",
   "execution_count": 82,
   "id": "fc5474cc",
   "metadata": {},
   "outputs": [
    {
     "name": "stdout",
     "output_type": "stream",
     "text": [
      "                      name  rate\n",
      "44                  Onesta   4.6\n",
      "7                   Onesta   4.6\n",
      "38       Empire Restaurant   4.4\n",
      "86           Meghana Foods   4.4\n",
      "52  Corner House Ice Cream   4.3\n",
      "37         Szechuan Dragon   4.2\n",
      "60           Peppy Peppers   4.2\n",
      "81           Frozen Bottle   4.2\n",
      "12        The Coffee Shack   4.2\n",
      "11            Cafe Shuffle   4.2\n"
     ]
    }
   ],
   "source": [
    "#What are the top 10 highest-rated restaurants?\n",
    "rated_restu=data[['name', 'rate']].sort_values(by='rate', ascending=False).head(10)\n",
    "print(rated_restu)"
   ]
  },
  {
   "cell_type": "code",
   "execution_count": 58,
   "id": "e138be8a",
   "metadata": {},
   "outputs": [],
   "source": [
    "#How many restaurants are there in each city?"
   ]
  },
  {
   "cell_type": "code",
   "execution_count": 85,
   "id": "d3fa9922",
   "metadata": {},
   "outputs": [
    {
     "name": "stdout",
     "output_type": "stream",
     "text": [
      "418.2432432432432\n"
     ]
    }
   ],
   "source": [
    "#What is the average cost for two people at restaurants in different cities\n",
    "print(data['approx_cost(for two people)'].mean())"
   ]
  },
  {
   "cell_type": "code",
   "execution_count": 87,
   "id": "a769a2cc",
   "metadata": {},
   "outputs": [
    {
     "name": "stdout",
     "output_type": "stream",
     "text": [
      "Number of restaurants offer online ordering: 58\n",
      "Number of restaurants offer table booking: 8\n"
     ]
    }
   ],
   "source": [
    "#How many restaurants offer online ordering versus table booking? Create a count of each.\n",
    "online=data[data['online_order'] == \"Yes\"].shape[0]\n",
    "book=data[data['book_table'] == \"Yes\"].shape[0]\n",
    "print(\"Number of restaurants offer online ordering:\", online)\n",
    "print(\"Number of restaurants offer table booking:\",book)"
   ]
  },
  {
   "cell_type": "code",
   "execution_count": 89,
   "id": "2ea93e41",
   "metadata": {},
   "outputs": [
    {
     "name": "stdout",
     "output_type": "stream",
     "text": [
      "8\n",
      "140\n"
     ]
    }
   ],
   "source": [
    "#Compare the average ratings of restaurants that offer table bookings versus those that do not.\n",
    "#Use a box plot or bar chart for visualization.\n",
    "yes=(data[data['book_table']=='Yes'].shape[0])\n",
    "no=(data[data['book_table']=='No'].shape[0])\n",
    "print(yes)\n",
    "print(no)\n"
   ]
  },
  {
   "cell_type": "code",
   "execution_count": 91,
   "id": "7175fdfb",
   "metadata": {},
   "outputs": [
    {
     "data": {
      "image/png": "[encoded data removed]",
      "text/plain": [
       "<Figure size 600x600 with 1 Axes>"
      ]
     },
     "metadata": {},
     "output_type": "display_data"
    }
   ],
   "source": [
    "counts = data['book_table'].value_counts()\n",
    "labels = book_table_counts.index\n",
    "plt.figure(figsize=(6, 6))\n",
    "plt.pie(book_table_counts, labels=labels, autopct='%1.1f%%', startangle=90, colors=['lightblue', 'lightcoral'])\n",
    "plt.title('Distribution of Restaurants Offering Table Booking')\n",
    "plt.show()\n"
   ]
  },
  {
   "cell_type": "code",
   "execution_count": 94,
   "id": "53bf072d",
   "metadata": {},
   "outputs": [
    {
     "name": "stdout",
     "output_type": "stream",
     "text": [
      "100\n",
      "950\n"
     ]
    }
   ],
   "source": [
    "print(data['approx_cost(for two people)'].min())\n",
    "print(data['approx_cost(for two people)'].max())"
   ]
  },
  {
   "cell_type": "code",
   "execution_count": null,
   "id": "9bdd7626",
   "metadata": {},
   "outputs": [],
   "source": []
  }
 ],
 "metadata": {
  "kernelspec": {
   "display_name": "Python 3 (ipykernel)",
   "language": "python",
   "name": "python3"
  },
  "language_info": {
   "codemirror_mode": {
    "name": "ipython",
    "version": 3
   },
   "file_extension": ".py",
   "mimetype": "text/x-python",
   "name": "python",
   "nbconvert_exporter": "python",
   "pygments_lexer": "ipython3",
   "version": "3.11.5"
  }
 },
 "nbformat": 4,
 "nbformat_minor": 5
}
